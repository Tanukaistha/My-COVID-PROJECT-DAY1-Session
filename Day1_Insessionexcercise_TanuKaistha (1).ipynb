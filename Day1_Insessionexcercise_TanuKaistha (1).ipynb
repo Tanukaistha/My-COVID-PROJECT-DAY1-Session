{
 "cells": [
  {
   "cell_type": "code",
   "execution_count": 6,
   "metadata": {},
   "outputs": [],
   "source": [
    "district='Gwalior'\n",
    "Infected_till_date=1234\n",
    "Infected_on_10th_June=12\n",
    "Infected_on_11th_June=2\n",
    "Infected_on_12th_June=13\n",
    "percentage_change = ((Infected_on_12th_June-Infected_on_10th_June)/Infected_on_10th_June)*100"
   ]
  },
  {
   "cell_type": "code",
   "execution_count": 13,
   "metadata": {},
   "outputs": [
    {
     "name": "stdout",
     "output_type": "stream",
     "text": [
      "district Gwalior\n",
      "Infected_till_date 1234\n",
      "Infected_on_10th_June 12\n",
      "Infected_on_11th_June 2\n",
      "Infected_on_12th_June 13\n",
      "percentage_change 8.333333333333332\n"
     ]
    }
   ],
   "source": [
    "print(\"district\",district)\n",
    "print(\"Infected_till_date\",Infected_till_date)\n",
    "print(\"Infected_on_10th_June\",Infected_on_10th_June)\n",
    "print(\"Infected_on_11th_June\",Infected_on_11th_June)\n",
    "print(\"Infected_on_12th_June\",Infected_on_12th_June)\n",
    "print(\"percentage_change\",percentage_change)"
   ]
  },
  {
   "cell_type": "code",
   "execution_count": null,
   "metadata": {},
   "outputs": [],
   "source": []
  }
 ],
 "metadata": {
  "kernelspec": {
   "display_name": "Python 3",
   "language": "python",
   "name": "python3"
  },
  "language_info": {
   "codemirror_mode": {
    "name": "ipython",
    "version": 3
   },
   "file_extension": ".py",
   "mimetype": "text/x-python",
   "name": "python",
   "nbconvert_exporter": "python",
   "pygments_lexer": "ipython3",
   "version": "3.7.6"
  }
 },
 "nbformat": 4,
 "nbformat_minor": 4
}
